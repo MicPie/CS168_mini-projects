{
 "cells": [
  {
   "cell_type": "code",
   "execution_count": 1,
   "metadata": {},
   "outputs": [],
   "source": [
    "%matplotlib inline\n",
    "%reload_ext autoreload\n",
    "%autoreload 2\n",
    "#%load_ext watermark"
   ]
  },
  {
   "cell_type": "code",
   "execution_count": 2,
   "metadata": {},
   "outputs": [],
   "source": [
    "import numpy as np\n",
    "import pandas as pd\n",
    "import matplotlib.pyplot as plt"
   ]
  },
  {
   "cell_type": "markdown",
   "metadata": {},
   "source": [
    "# The Power of Two Choices"
   ]
  },
  {
   "cell_type": "markdown",
   "metadata": {},
   "source": [
    "## 1.)"
   ]
  },
  {
   "cell_type": "code",
   "execution_count": 3,
   "metadata": {},
   "outputs": [],
   "source": [
    "N = 10"
   ]
  },
  {
   "cell_type": "code",
   "execution_count": 4,
   "metadata": {},
   "outputs": [
    {
     "data": {
      "text/plain": [
       "[0, 0, 0, 0, 0, 0, 0, 0, 0, 0]"
      ]
     },
     "execution_count": 4,
     "metadata": {},
     "output_type": "execute_result"
    }
   ],
   "source": [
    "bins = [0] * N; bins"
   ]
  },
  {
   "cell_type": "code",
   "execution_count": 5,
   "metadata": {},
   "outputs": [
    {
     "data": {
      "text/plain": [
       "[6, 7, 4, 6, 4, 4, 7, 4, 4, 6, 8, 10, 7, 6, 1, 9, 5, 3, 6, 5]"
      ]
     },
     "execution_count": 5,
     "metadata": {},
     "output_type": "execute_result"
    }
   ],
   "source": [
    "[np.random.randint(1,10+1) for _ in range(20)]"
   ]
  },
  {
   "cell_type": "code",
   "execution_count": 6,
   "metadata": {},
   "outputs": [],
   "source": [
    "def add_ball(bins, M):\n",
    "    \"\"\"\n",
    "        bins ... List that represents the different bins.\n",
    "        M ... number of balls to add in the bins.\n",
    "        Bins are assigned uniformly at random.\n",
    "    \"\"\"\n",
    "    print(bins)\n",
    "    for m in range(M):\n",
    "        bins[np.random.randint(0,10)] += 1\n",
    "    print(bins)\n",
    "    return bins"
   ]
  },
  {
   "cell_type": "code",
   "execution_count": 7,
   "metadata": {},
   "outputs": [
    {
     "name": "stdout",
     "output_type": "stream",
     "text": [
      "[0, 0, 0, 0, 0, 0, 0, 0, 0, 0]\n",
      "[0, 0, 1, 0, 0, 0, 0, 0, 0, 0]\n"
     ]
    }
   ],
   "source": [
    "bins = add_ball(bins, 1)"
   ]
  },
  {
   "cell_type": "markdown",
   "metadata": {},
   "source": [
    "## 2.)"
   ]
  },
  {
   "cell_type": "code",
   "execution_count": 28,
   "metadata": {},
   "outputs": [],
   "source": [
    "N = 10"
   ]
  },
  {
   "cell_type": "code",
   "execution_count": 29,
   "metadata": {},
   "outputs": [
    {
     "data": {
      "text/plain": [
       "[0, 0, 0, 0, 0, 0, 0, 0, 0, 0]"
      ]
     },
     "execution_count": 29,
     "metadata": {},
     "output_type": "execute_result"
    }
   ],
   "source": [
    "bins = [0] * N; bins"
   ]
  },
  {
   "cell_type": "code",
   "execution_count": 30,
   "metadata": {},
   "outputs": [],
   "source": [
    "def add_ball(bins, M):\n",
    "    \"\"\"\n",
    "        bins ... List that represents the different bins.\n",
    "        M ... number of balls to add in the bins.\n",
    "        See p1 pdf for describtion.\n",
    "    \"\"\"\n",
    "    print(f\"bins start: {bins}\")\n",
    "    bins_selected = [np.random.randint(1,10) for _ in range(M)]\n",
    "    print(f\"bins selected: {bins_selected}\")\n",
    "    \n",
    "    if bins[0] < bins[1]:\n",
    "        bins[0] += 1\n",
    "    elif bins[1] < bins[0]:\n",
    "        bins[1] += 1\n",
    "    else:\n",
    "        bins[bins_selected[np.random.randint(2)]] += 1\n",
    "        \n",
    "    print(f\"bins end: {bins}\")\n",
    "    return bins"
   ]
  },
  {
   "cell_type": "code",
   "execution_count": 31,
   "metadata": {},
   "outputs": [
    {
     "name": "stdout",
     "output_type": "stream",
     "text": [
      "bins start: [0, 0, 0, 0, 0, 0, 0, 0, 0, 0]\n",
      "bins selected: [2, 6]\n",
      "bins end: [0, 0, 1, 0, 0, 0, 0, 0, 0, 0]\n"
     ]
    }
   ],
   "source": [
    "bins = add_ball(bins, 2)"
   ]
  },
  {
   "cell_type": "markdown",
   "metadata": {},
   "source": [
    "## 3.)"
   ]
  },
  {
   "cell_type": "code",
   "execution_count": 12,
   "metadata": {},
   "outputs": [
    {
     "name": "stdout",
     "output_type": "stream",
     "text": [
      "0 1\n",
      "0 2\n",
      "1 2\n"
     ]
    }
   ],
   "source": [
    "M = 3\n",
    "for i in range(M):\n",
    "    for j in range(i+1,M):\n",
    "        print(i,j)"
   ]
  },
  {
   "cell_type": "code",
   "execution_count": 13,
   "metadata": {},
   "outputs": [],
   "source": [
    "N = 10"
   ]
  },
  {
   "cell_type": "code",
   "execution_count": 14,
   "metadata": {},
   "outputs": [
    {
     "data": {
      "text/plain": [
       "[0, 0, 0, 0, 0, 0, 0, 0, 0, 0]"
      ]
     },
     "execution_count": 14,
     "metadata": {},
     "output_type": "execute_result"
    }
   ],
   "source": [
    "bins = [0] * N; bins"
   ]
  },
  {
   "cell_type": "code",
   "execution_count": 17,
   "metadata": {},
   "outputs": [],
   "source": [
    "def add_ball(bins, M):\n",
    "    \"\"\"\n",
    "        bins ... List that represents the different bins.\n",
    "        M ... number of balls to add in the bins.\n",
    "        See p1 pdf for describtion.\n",
    "    \"\"\"\n",
    "    print(f\"bins start: {bins}\")\n",
    "    bins_selected = [np.random.randint(1,10) for _ in range(M)]\n",
    "    print(f\"bins selected: {bins_selected}\")\n",
    "    \n",
    "    for i in range(M):\n",
    "        for j in range(i+1,M):\n",
    "            if bins[i] < bins[i]:\n",
    "                bins[i] += 1\n",
    "            elif bins[i] > bins[j]:\n",
    "                bins[j] += 1\n",
    "            else:\n",
    "                idx = np.random.randint(M)\n",
    "                bins[bins_selected[idx]] += 1\n",
    "        \n",
    "    print(f\"bins end: {bins}\")\n",
    "    return bins"
   ]
  },
  {
   "cell_type": "code",
   "execution_count": 25,
   "metadata": {},
   "outputs": [
    {
     "name": "stdout",
     "output_type": "stream",
     "text": [
      "bins start: [0, 1, 1, 4, 2, 5, 2, 5, 2, 2]\n",
      "bins selected: [3, 3, 5]\n",
      "bins end: [0, 1, 1, 6, 2, 6, 2, 5, 2, 2]\n"
     ]
    }
   ],
   "source": [
    "bins = add_ball(bins, 3)"
   ]
  },
  {
   "cell_type": "code",
   "execution_count": null,
   "metadata": {},
   "outputs": [],
   "source": []
  },
  {
   "cell_type": "code",
   "execution_count": null,
   "metadata": {},
   "outputs": [],
   "source": []
  }
 ],
 "metadata": {
  "kernelspec": {
   "display_name": "Python 3",
   "language": "python",
   "name": "python3"
  },
  "language_info": {
   "codemirror_mode": {
    "name": "ipython",
    "version": 3
   },
   "file_extension": ".py",
   "mimetype": "text/x-python",
   "name": "python",
   "nbconvert_exporter": "python",
   "pygments_lexer": "ipython3",
   "version": "3.7.6"
  }
 },
 "nbformat": 4,
 "nbformat_minor": 4
}
